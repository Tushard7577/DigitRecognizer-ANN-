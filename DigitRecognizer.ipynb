{
 "cells": [
  {
   "cell_type": "code",
   "execution_count": 1,
   "id": "acefc5c2",
   "metadata": {},
   "outputs": [],
   "source": [
    "import pandas as pd\n",
    "import matplotlib.pyplot as plt"
   ]
  },
  {
   "cell_type": "code",
   "execution_count": 2,
   "id": "3ce53c14",
   "metadata": {},
   "outputs": [],
   "source": [
    "df = pd.read_csv('../../datasets/digit_recognition/train.csv')"
   ]
  },
  {
   "cell_type": "code",
   "execution_count": 3,
   "id": "ba9e00c8",
   "metadata": {},
   "outputs": [
    {
     "data": {
      "text/plain": [
       "(42000, 785)"
      ]
     },
     "execution_count": 3,
     "metadata": {},
     "output_type": "execute_result"
    }
   ],
   "source": [
    "df.shape"
   ]
  },
  {
   "cell_type": "code",
   "execution_count": 4,
   "id": "24388341",
   "metadata": {},
   "outputs": [],
   "source": [
    "y = df['label']\n",
    "X = df.drop('label',axis=1)"
   ]
  },
  {
   "cell_type": "code",
   "execution_count": 5,
   "id": "a9d269a4",
   "metadata": {},
   "outputs": [
    {
     "data": {
      "text/html": [
       "<div>\n",
       "<style scoped>\n",
       "    .dataframe tbody tr th:only-of-type {\n",
       "        vertical-align: middle;\n",
       "    }\n",
       "\n",
       "    .dataframe tbody tr th {\n",
       "        vertical-align: top;\n",
       "    }\n",
       "\n",
       "    .dataframe thead th {\n",
       "        text-align: right;\n",
       "    }\n",
       "</style>\n",
       "<table border=\"1\" class=\"dataframe\">\n",
       "  <thead>\n",
       "    <tr style=\"text-align: right;\">\n",
       "      <th></th>\n",
       "      <th>pixel0</th>\n",
       "      <th>pixel1</th>\n",
       "      <th>pixel2</th>\n",
       "      <th>pixel3</th>\n",
       "      <th>pixel4</th>\n",
       "      <th>pixel5</th>\n",
       "      <th>pixel6</th>\n",
       "      <th>pixel7</th>\n",
       "      <th>pixel8</th>\n",
       "      <th>pixel9</th>\n",
       "      <th>...</th>\n",
       "      <th>pixel774</th>\n",
       "      <th>pixel775</th>\n",
       "      <th>pixel776</th>\n",
       "      <th>pixel777</th>\n",
       "      <th>pixel778</th>\n",
       "      <th>pixel779</th>\n",
       "      <th>pixel780</th>\n",
       "      <th>pixel781</th>\n",
       "      <th>pixel782</th>\n",
       "      <th>pixel783</th>\n",
       "    </tr>\n",
       "  </thead>\n",
       "  <tbody>\n",
       "    <tr>\n",
       "      <th>0</th>\n",
       "      <td>0</td>\n",
       "      <td>0</td>\n",
       "      <td>0</td>\n",
       "      <td>0</td>\n",
       "      <td>0</td>\n",
       "      <td>0</td>\n",
       "      <td>0</td>\n",
       "      <td>0</td>\n",
       "      <td>0</td>\n",
       "      <td>0</td>\n",
       "      <td>...</td>\n",
       "      <td>0</td>\n",
       "      <td>0</td>\n",
       "      <td>0</td>\n",
       "      <td>0</td>\n",
       "      <td>0</td>\n",
       "      <td>0</td>\n",
       "      <td>0</td>\n",
       "      <td>0</td>\n",
       "      <td>0</td>\n",
       "      <td>0</td>\n",
       "    </tr>\n",
       "    <tr>\n",
       "      <th>1</th>\n",
       "      <td>0</td>\n",
       "      <td>0</td>\n",
       "      <td>0</td>\n",
       "      <td>0</td>\n",
       "      <td>0</td>\n",
       "      <td>0</td>\n",
       "      <td>0</td>\n",
       "      <td>0</td>\n",
       "      <td>0</td>\n",
       "      <td>0</td>\n",
       "      <td>...</td>\n",
       "      <td>0</td>\n",
       "      <td>0</td>\n",
       "      <td>0</td>\n",
       "      <td>0</td>\n",
       "      <td>0</td>\n",
       "      <td>0</td>\n",
       "      <td>0</td>\n",
       "      <td>0</td>\n",
       "      <td>0</td>\n",
       "      <td>0</td>\n",
       "    </tr>\n",
       "    <tr>\n",
       "      <th>2</th>\n",
       "      <td>0</td>\n",
       "      <td>0</td>\n",
       "      <td>0</td>\n",
       "      <td>0</td>\n",
       "      <td>0</td>\n",
       "      <td>0</td>\n",
       "      <td>0</td>\n",
       "      <td>0</td>\n",
       "      <td>0</td>\n",
       "      <td>0</td>\n",
       "      <td>...</td>\n",
       "      <td>0</td>\n",
       "      <td>0</td>\n",
       "      <td>0</td>\n",
       "      <td>0</td>\n",
       "      <td>0</td>\n",
       "      <td>0</td>\n",
       "      <td>0</td>\n",
       "      <td>0</td>\n",
       "      <td>0</td>\n",
       "      <td>0</td>\n",
       "    </tr>\n",
       "    <tr>\n",
       "      <th>3</th>\n",
       "      <td>0</td>\n",
       "      <td>0</td>\n",
       "      <td>0</td>\n",
       "      <td>0</td>\n",
       "      <td>0</td>\n",
       "      <td>0</td>\n",
       "      <td>0</td>\n",
       "      <td>0</td>\n",
       "      <td>0</td>\n",
       "      <td>0</td>\n",
       "      <td>...</td>\n",
       "      <td>0</td>\n",
       "      <td>0</td>\n",
       "      <td>0</td>\n",
       "      <td>0</td>\n",
       "      <td>0</td>\n",
       "      <td>0</td>\n",
       "      <td>0</td>\n",
       "      <td>0</td>\n",
       "      <td>0</td>\n",
       "      <td>0</td>\n",
       "    </tr>\n",
       "    <tr>\n",
       "      <th>4</th>\n",
       "      <td>0</td>\n",
       "      <td>0</td>\n",
       "      <td>0</td>\n",
       "      <td>0</td>\n",
       "      <td>0</td>\n",
       "      <td>0</td>\n",
       "      <td>0</td>\n",
       "      <td>0</td>\n",
       "      <td>0</td>\n",
       "      <td>0</td>\n",
       "      <td>...</td>\n",
       "      <td>0</td>\n",
       "      <td>0</td>\n",
       "      <td>0</td>\n",
       "      <td>0</td>\n",
       "      <td>0</td>\n",
       "      <td>0</td>\n",
       "      <td>0</td>\n",
       "      <td>0</td>\n",
       "      <td>0</td>\n",
       "      <td>0</td>\n",
       "    </tr>\n",
       "  </tbody>\n",
       "</table>\n",
       "<p>5 rows × 784 columns</p>\n",
       "</div>"
      ],
      "text/plain": [
       "   pixel0  pixel1  pixel2  pixel3  pixel4  pixel5  pixel6  pixel7  pixel8  \\\n",
       "0       0       0       0       0       0       0       0       0       0   \n",
       "1       0       0       0       0       0       0       0       0       0   \n",
       "2       0       0       0       0       0       0       0       0       0   \n",
       "3       0       0       0       0       0       0       0       0       0   \n",
       "4       0       0       0       0       0       0       0       0       0   \n",
       "\n",
       "   pixel9  ...  pixel774  pixel775  pixel776  pixel777  pixel778  pixel779  \\\n",
       "0       0  ...         0         0         0         0         0         0   \n",
       "1       0  ...         0         0         0         0         0         0   \n",
       "2       0  ...         0         0         0         0         0         0   \n",
       "3       0  ...         0         0         0         0         0         0   \n",
       "4       0  ...         0         0         0         0         0         0   \n",
       "\n",
       "   pixel780  pixel781  pixel782  pixel783  \n",
       "0         0         0         0         0  \n",
       "1         0         0         0         0  \n",
       "2         0         0         0         0  \n",
       "3         0         0         0         0  \n",
       "4         0         0         0         0  \n",
       "\n",
       "[5 rows x 784 columns]"
      ]
     },
     "execution_count": 5,
     "metadata": {},
     "output_type": "execute_result"
    }
   ],
   "source": [
    "X.head()"
   ]
  },
  {
   "cell_type": "code",
   "execution_count": 6,
   "id": "d13e44fc",
   "metadata": {},
   "outputs": [
    {
     "data": {
      "text/plain": [
       "<matplotlib.image.AxesImage at 0x17830575e50>"
      ]
     },
     "execution_count": 6,
     "metadata": {},
     "output_type": "execute_result"
    },
    {
     "data": {
      "image/png": "[encoded data removed]",
      "text/plain": [
       "<Figure size 640x480 with 1 Axes>"
      ]
     },
     "metadata": {},
     "output_type": "display_data"
    }
   ],
   "source": [
    "A = X.iloc[3].values.reshape(28,28)\n",
    "plt.imshow(A)"
   ]
  },
  {
   "cell_type": "code",
   "execution_count": 7,
   "id": "c29079b5",
   "metadata": {},
   "outputs": [
    {
     "data": {
      "text/plain": [
       "0        1\n",
       "1        0\n",
       "2        1\n",
       "3        4\n",
       "4        0\n",
       "        ..\n",
       "41995    0\n",
       "41996    1\n",
       "41997    7\n",
       "41998    6\n",
       "41999    9\n",
       "Name: label, Length: 42000, dtype: int64"
      ]
     },
     "execution_count": 7,
     "metadata": {},
     "output_type": "execute_result"
    }
   ],
   "source": [
    "y"
   ]
  },
  {
   "cell_type": "code",
   "execution_count": 8,
   "id": "9a050381",
   "metadata": {},
   "outputs": [
    {
     "data": {
      "text/plain": [
       "(42000, 784)"
      ]
     },
     "execution_count": 8,
     "metadata": {},
     "output_type": "execute_result"
    }
   ],
   "source": [
    "X.shape"
   ]
  },
  {
   "cell_type": "code",
   "execution_count": 9,
   "id": "e40a341c",
   "metadata": {},
   "outputs": [],
   "source": [
    "# Scale\n",
    "X_train = X/255"
   ]
  },
  {
   "cell_type": "code",
   "execution_count": 10,
   "id": "7fab688e",
   "metadata": {},
   "outputs": [
    {
     "data": {
      "text/plain": [
       "0        1\n",
       "1        0\n",
       "2        1\n",
       "3        4\n",
       "4        0\n",
       "        ..\n",
       "41995    0\n",
       "41996    1\n",
       "41997    7\n",
       "41998    6\n",
       "41999    9\n",
       "Name: label, Length: 42000, dtype: int64"
      ]
     },
     "execution_count": 10,
     "metadata": {},
     "output_type": "execute_result"
    }
   ],
   "source": [
    "y"
   ]
  },
  {
   "cell_type": "code",
   "execution_count": 11,
   "id": "10ae53c8",
   "metadata": {},
   "outputs": [],
   "source": [
    "from tensorflow.keras.utils import to_categorical"
   ]
  },
  {
   "cell_type": "code",
   "execution_count": 13,
   "id": "9531997c",
   "metadata": {},
   "outputs": [],
   "source": [
    "ya = to_categorical(y,num_classes=10)"
   ]
  },
  {
   "cell_type": "code",
   "execution_count": 14,
   "id": "49b40462",
   "metadata": {},
   "outputs": [
    {
     "data": {
      "text/plain": [
       "array([[0., 1., 0., 0., 0., 0., 0., 0., 0., 0.],\n",
       "       [1., 0., 0., 0., 0., 0., 0., 0., 0., 0.],\n",
       "       [0., 1., 0., 0., 0., 0., 0., 0., 0., 0.],\n",
       "       [0., 0., 0., 0., 1., 0., 0., 0., 0., 0.],\n",
       "       [1., 0., 0., 0., 0., 0., 0., 0., 0., 0.]], dtype=float32)"
      ]
     },
     "execution_count": 14,
     "metadata": {},
     "output_type": "execute_result"
    }
   ],
   "source": [
    "ya[:5]"
   ]
  },
  {
   "cell_type": "code",
   "execution_count": 15,
   "id": "83348754",
   "metadata": {},
   "outputs": [],
   "source": [
    "from tensorflow.keras.models import Sequential\n",
    "from tensorflow.keras.layers import Dense"
   ]
  },
  {
   "cell_type": "code",
   "execution_count": 18,
   "id": "746bb6f3",
   "metadata": {},
   "outputs": [
    {
     "name": "stdout",
     "output_type": "stream",
     "text": [
      "Epoch 1/30\n",
      "657/657 [==============================] - 3s 3ms/step - loss: 0.6190 - accuracy: 0.8288\n",
      "Epoch 2/30\n",
      "657/657 [==============================] - 2s 3ms/step - loss: 0.2747 - accuracy: 0.9210\n",
      "Epoch 3/30\n",
      "657/657 [==============================] - 2s 3ms/step - loss: 0.2358 - accuracy: 0.9315\n",
      "Epoch 4/30\n",
      "657/657 [==============================] - 2s 3ms/step - loss: 0.2124 - accuracy: 0.9374\n",
      "Epoch 5/30\n",
      "657/657 [==============================] - 2s 3ms/step - loss: 0.1969 - accuracy: 0.9421\n",
      "Epoch 6/30\n",
      "657/657 [==============================] - 2s 3ms/step - loss: 0.1856 - accuracy: 0.9459\n",
      "Epoch 7/30\n",
      "657/657 [==============================] - 2s 3ms/step - loss: 0.1758 - accuracy: 0.9483\n",
      "Epoch 8/30\n",
      "657/657 [==============================] - 2s 3ms/step - loss: 0.1684 - accuracy: 0.9503\n",
      "Epoch 9/30\n",
      "657/657 [==============================] - 2s 3ms/step - loss: 0.1621 - accuracy: 0.9519\n",
      "Epoch 10/30\n",
      "657/657 [==============================] - 2s 3ms/step - loss: 0.1558 - accuracy: 0.9542\n",
      "Epoch 11/30\n",
      "657/657 [==============================] - 2s 3ms/step - loss: 0.1513 - accuracy: 0.9555\n",
      "Epoch 12/30\n",
      "657/657 [==============================] - 2s 3ms/step - loss: 0.1459 - accuracy: 0.9574\n",
      "Epoch 13/30\n",
      "657/657 [==============================] - 2s 3ms/step - loss: 0.1419 - accuracy: 0.9582\n",
      "Epoch 14/30\n",
      "657/657 [==============================] - 2s 3ms/step - loss: 0.1378 - accuracy: 0.9598\n",
      "Epoch 15/30\n",
      "657/657 [==============================] - 2s 3ms/step - loss: 0.1344 - accuracy: 0.9605\n",
      "Epoch 16/30\n",
      "657/657 [==============================] - 2s 3ms/step - loss: 0.1300 - accuracy: 0.9608\n",
      "Epoch 17/30\n",
      "657/657 [==============================] - 2s 3ms/step - loss: 0.1267 - accuracy: 0.9630\n",
      "Epoch 18/30\n",
      "657/657 [==============================] - 2s 3ms/step - loss: 0.1242 - accuracy: 0.9629\n",
      "Epoch 19/30\n",
      "657/657 [==============================] - 2s 3ms/step - loss: 0.1213 - accuracy: 0.9641\n",
      "Epoch 20/30\n",
      "657/657 [==============================] - 2s 3ms/step - loss: 0.1185 - accuracy: 0.9651\n",
      "Epoch 21/30\n",
      "657/657 [==============================] - 2s 3ms/step - loss: 0.1147 - accuracy: 0.9655\n",
      "Epoch 22/30\n",
      "657/657 [==============================] - 2s 3ms/step - loss: 0.1133 - accuracy: 0.9663\n",
      "Epoch 23/30\n",
      "657/657 [==============================] - 2s 3ms/step - loss: 0.1112 - accuracy: 0.9670\n",
      "Epoch 24/30\n",
      "657/657 [==============================] - 2s 3ms/step - loss: 0.1088 - accuracy: 0.9672\n",
      "Epoch 25/30\n",
      "657/657 [==============================] - 2s 3ms/step - loss: 0.1062 - accuracy: 0.9681\n",
      "Epoch 26/30\n",
      "657/657 [==============================] - 2s 3ms/step - loss: 0.1054 - accuracy: 0.9688\n",
      "Epoch 27/30\n",
      "657/657 [==============================] - 2s 3ms/step - loss: 0.1026 - accuracy: 0.9692\n",
      "Epoch 28/30\n",
      "657/657 [==============================] - 2s 3ms/step - loss: 0.1014 - accuracy: 0.9697\n",
      "Epoch 29/30\n",
      "657/657 [==============================] - 2s 3ms/step - loss: 0.0996 - accuracy: 0.9703\n",
      "Epoch 30/30\n",
      "657/657 [==============================] - 2s 3ms/step - loss: 0.0972 - accuracy: 0.9707\n"
     ]
    },
    {
     "data": {
      "text/plain": [
       "<keras.callbacks.History at 0x17808a87d30>"
      ]
     },
     "execution_count": 18,
     "metadata": {},
     "output_type": "execute_result"
    }
   ],
   "source": [
    "model = Sequential()\n",
    "model.add(Dense(16,activation='relu', input_shape=(784,)))\n",
    "model.add(Dense(16,activation='relu'))\n",
    "model.add(Dense(10,activation='softmax')) # softmax gives output in probability format\n",
    "\n",
    "model.compile(loss='categorical_crossentropy', metrics=['accuracy'])\n",
    "\n",
    "model.fit(X_train,ya,epochs=30,batch_size=64)"
   ]
  },
  {
   "cell_type": "code",
   "execution_count": 19,
   "id": "d14c2156",
   "metadata": {},
   "outputs": [
    {
     "name": "stdout",
     "output_type": "stream",
     "text": [
      "Model: \"sequential_2\"\n",
      "_________________________________________________________________\n",
      " Layer (type)                Output Shape              Param #   \n",
      "=================================================================\n",
      " dense_6 (Dense)             (None, 16)                12560     \n",
      "                                                                 \n",
      " dense_7 (Dense)             (None, 16)                272       \n",
      "                                                                 \n",
      " dense_8 (Dense)             (None, 10)                170       \n",
      "                                                                 \n",
      "=================================================================\n",
      "Total params: 13,002\n",
      "Trainable params: 13,002\n",
      "Non-trainable params: 0\n",
      "_________________________________________________________________\n"
     ]
    }
   ],
   "source": [
    "model.summary()"
   ]
  },
  {
   "cell_type": "code",
   "execution_count": 20,
   "id": "fd34b5ed",
   "metadata": {},
   "outputs": [
    {
     "name": "stdout",
     "output_type": "stream",
     "text": [
      "1313/1313 [==============================] - 3s 2ms/step - loss: 0.0875 - accuracy: 0.9740\n"
     ]
    },
    {
     "data": {
      "text/plain": [
       "[0.08750543743371964, 0.9740476012229919]"
      ]
     },
     "execution_count": 20,
     "metadata": {},
     "output_type": "execute_result"
    }
   ],
   "source": [
    "model.evaluate(X_train,ya)"
   ]
  },
  {
   "cell_type": "markdown",
   "id": "8c6913c7",
   "metadata": {},
   "source": [
    "# Make Predictions"
   ]
  },
  {
   "cell_type": "code",
   "execution_count": 32,
   "id": "1c181608",
   "metadata": {},
   "outputs": [
    {
     "data": {
      "text/plain": [
       "9"
      ]
     },
     "execution_count": 32,
     "metadata": {},
     "output_type": "execute_result"
    }
   ],
   "source": [
    "A = X_train.iloc[41999].values.reshape(1,784)\n",
    "model.predict_on_batch(A).argmax()"
   ]
  },
  {
   "cell_type": "code",
   "execution_count": 27,
   "id": "b6f31a70",
   "metadata": {},
   "outputs": [
    {
     "data": {
      "text/plain": [
       "0        1\n",
       "1        0\n",
       "2        1\n",
       "3        4\n",
       "4        0\n",
       "        ..\n",
       "41995    0\n",
       "41996    1\n",
       "41997    7\n",
       "41998    6\n",
       "41999    9\n",
       "Name: label, Length: 42000, dtype: int64"
      ]
     },
     "execution_count": 27,
     "metadata": {},
     "output_type": "execute_result"
    }
   ],
   "source": [
    "y"
   ]
  },
  {
   "cell_type": "markdown",
   "id": "a48edc6d",
   "metadata": {},
   "source": [
    "# Predictions on real data"
   ]
  },
  {
   "cell_type": "code",
   "execution_count": 39,
   "id": "e6582f54",
   "metadata": {},
   "outputs": [],
   "source": [
    "# Create your own handwriting in Paint\n",
    "# Read as numpy array\n",
    "import cv2 \n",
    "def get_digit(path):\n",
    "    A = cv2.imread(path, 0) # gray=0\n",
    "    A = cv2.resize(A,(28,28))\n",
    "    A = A/255\n",
    "    A = A.reshape(1,784)\n",
    "    return model.predict_on_batch(A).argmax()"
   ]
  },
  {
   "cell_type": "code",
   "execution_count": 40,
   "id": "49c55381",
   "metadata": {},
   "outputs": [],
   "source": [
    "import os"
   ]
  },
  {
   "cell_type": "code",
   "execution_count": 43,
   "id": "0717e0b2",
   "metadata": {},
   "outputs": [
    {
     "name": "stdout",
     "output_type": "stream",
     "text": [
      "../../datasets/digit_recognition/my_images/0.jpg\n",
      "../../datasets/digit_recognition/my_images/00.jpg\n",
      "../../datasets/digit_recognition/my_images/1.jpg\n",
      "../../datasets/digit_recognition/my_images/11.jpg\n",
      "../../datasets/digit_recognition/my_images/2.jpg\n",
      "../../datasets/digit_recognition/my_images/22.jpg\n",
      "../../datasets/digit_recognition/my_images/3.jpg\n",
      "../../datasets/digit_recognition/my_images/33.jpg\n",
      "../../datasets/digit_recognition/my_images/4.jpg\n",
      "../../datasets/digit_recognition/my_images/44.jpg\n",
      "../../datasets/digit_recognition/my_images/5.jpg\n",
      "../../datasets/digit_recognition/my_images/55.jpg\n",
      "../../datasets/digit_recognition/my_images/6.jpg\n",
      "../../datasets/digit_recognition/my_images/66.jpg\n",
      "../../datasets/digit_recognition/my_images/7.jpg\n",
      "../../datasets/digit_recognition/my_images/77.jpg\n",
      "../../datasets/digit_recognition/my_images/8.jpg\n",
      "../../datasets/digit_recognition/my_images/88.jpg\n",
      "../../datasets/digit_recognition/my_images/9.jpg\n",
      "../../datasets/digit_recognition/my_images/99.jpg\n"
     ]
    }
   ],
   "source": [
    "for img in os.listdir('../../datasets/digit_recognition/my_images/'):\n",
    "    print('../../datasets/digit_recognition/my_images/'+img)"
   ]
  },
  {
   "cell_type": "code",
   "execution_count": 45,
   "id": "d2b822ef",
   "metadata": {},
   "outputs": [
    {
     "name": "stdout",
     "output_type": "stream",
     "text": [
      "0.jpg \t 4\n",
      "00.jpg \t 0\n",
      "1.jpg \t 5\n",
      "11.jpg \t 5\n",
      "2.jpg \t 6\n",
      "22.jpg \t 2\n",
      "3.jpg \t 2\n",
      "33.jpg \t 3\n",
      "4.jpg \t 8\n",
      "44.jpg \t 6\n",
      "5.jpg \t 3\n",
      "55.jpg \t 5\n",
      "6.jpg \t 0\n",
      "66.jpg \t 6\n",
      "7.jpg \t 2\n",
      "77.jpg \t 3\n",
      "8.jpg \t 8\n",
      "88.jpg \t 5\n",
      "9.jpg \t 3\n",
      "99.jpg \t 3\n"
     ]
    }
   ],
   "source": [
    "for img in os.listdir('../../datasets/digit_recognition/my_images/'):\n",
    "    y = get_digit('../../datasets/digit_recognition/my_images/'+img)\n",
    "    print(img,'\\t',y)"
   ]
  },
  {
   "cell_type": "code",
   "execution_count": null,
   "id": "8f37d20e",
   "metadata": {},
   "outputs": [],
   "source": []
  }
 ],
 "metadata": {
  "kernelspec": {
   "display_name": "Python 3 (ipykernel)",
   "language": "python",
   "name": "python3"
  },
  "language_info": {
   "codemirror_mode": {
    "name": "ipython",
    "version": 3
   },
   "file_extension": ".py",
   "mimetype": "text/x-python",
   "name": "python",
   "nbconvert_exporter": "python",
   "pygments_lexer": "ipython3",
   "version": "3.11.5"
  }
 },
 "nbformat": 4,
 "nbformat_minor": 5
}
